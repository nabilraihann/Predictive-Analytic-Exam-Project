{
  "nbformat": 4,
  "nbformat_minor": 0,
  "metadata": {
    "colab": {
      "provenance": []
    },
    "kernelspec": {
      "name": "python3",
      "display_name": "Python 3"
    },
    "language_info": {
      "name": "python"
    },
    "accelerator": "GPU",
    "gpuClass": "standard"
  },
  "cells": [
    {
      "cell_type": "markdown",
      "source": [
        "# **Predictive Analytic-Exam Project**\n",
        "\n",
        "\n",
        "---\n",
        "**Anggota:** <br>\n",
        "\n",
        "**Nabil Muhammad Raihan**|**2010512012**\n",
        "---------------------|--------------\n",
        "**Fahry Amzar**          |**2010512021**"
      ],
      "metadata": {
        "id": "g93FZR83agTZ"
      }
    },
    {
      "cell_type": "markdown",
      "source": [
        "# **1. Eksplorasi Kolom Dataset**"
      ],
      "metadata": {
        "id": "VfFVBtKe_5sO"
      }
    },
    {
      "cell_type": "markdown",
      "source": [
        "- import library"
      ],
      "metadata": {
        "id": "xQugGt3EFgVM"
      }
    },
    {
      "cell_type": "code",
      "execution_count": 1,
      "metadata": {
        "id": "NvGqFHdt7lsV",
        "colab": {
          "base_uri": "https://localhost:8080/"
        },
        "outputId": "84b951f0-67ad-46c5-c669-f1ced7d51f30"
      },
      "outputs": [
        {
          "output_type": "stream",
          "name": "stdout",
          "text": [
            "Looking in indexes: https://pypi.org/simple, https://us-python.pkg.dev/colab-wheels/public/simple/\n",
            "Requirement already satisfied: matplotlib in /usr/local/lib/python3.8/dist-packages (3.6.2)\n",
            "Requirement already satisfied: numpy>=1.19 in /usr/local/lib/python3.8/dist-packages (from matplotlib) (1.21.6)\n",
            "Requirement already satisfied: fonttools>=4.22.0 in /usr/local/lib/python3.8/dist-packages (from matplotlib) (4.38.0)\n",
            "Requirement already satisfied: cycler>=0.10 in /usr/local/lib/python3.8/dist-packages (from matplotlib) (0.11.0)\n",
            "Requirement already satisfied: contourpy>=1.0.1 in /usr/local/lib/python3.8/dist-packages (from matplotlib) (1.0.6)\n",
            "Requirement already satisfied: pyparsing>=2.2.1 in /usr/local/lib/python3.8/dist-packages (from matplotlib) (3.0.9)\n",
            "Requirement already satisfied: kiwisolver>=1.0.1 in /usr/local/lib/python3.8/dist-packages (from matplotlib) (1.4.4)\n",
            "Requirement already satisfied: packaging>=20.0 in /usr/local/lib/python3.8/dist-packages (from matplotlib) (21.3)\n",
            "Requirement already satisfied: python-dateutil>=2.7 in /usr/local/lib/python3.8/dist-packages (from matplotlib) (2.8.2)\n",
            "Requirement already satisfied: pillow>=6.2.0 in /usr/local/lib/python3.8/dist-packages (from matplotlib) (7.1.2)\n",
            "Requirement already satisfied: six>=1.5 in /usr/local/lib/python3.8/dist-packages (from python-dateutil>=2.7->matplotlib) (1.15.0)\n"
          ]
        }
      ],
      "source": [
        "import pandas as pd\n",
        "import numpy as np\n",
        "import matplotlib.pyplot as plt\n",
        "import matplotlib\n",
        "import seaborn as sns\n",
        "from sklearn.model_selection import train_test_split\n",
        "from sklearn.tree import DecisionTreeClassifier\n",
        "from sklearn.naive_bayes import GaussianNB\n",
        "from sklearn.metrics import confusion_matrix, classification_report, ConfusionMatrixDisplay, accuracy_score, precision_score, recall_score\n",
        "from sklearn.preprocessing import LabelEncoder\n",
        "\n",
        "pd.options.mode.chained_assignment = None  # default='warn'\n",
        "\n",
        "!pip install matplotlib --upgrade"
      ]
    },
    {
      "cell_type": "code",
      "source": [
        "print('matplotlib: {}'.format(matplotlib.__version__))"
      ],
      "metadata": {
        "colab": {
          "base_uri": "https://localhost:8080/"
        },
        "id": "Toor1gzxMc0C",
        "outputId": "bd2f8353-2f9c-4560-bf44-000634d8bc3a"
      },
      "execution_count": 2,
      "outputs": [
        {
          "output_type": "stream",
          "name": "stdout",
          "text": [
            "matplotlib: 3.6.2\n"
          ]
        }
      ]
    },
    {
      "cell_type": "markdown",
      "source": [
        "- Load data dan menampilkan informasi dataset"
      ],
      "metadata": {
        "id": "sXQ1ilksFocy"
      }
    },
    {
      "cell_type": "code",
      "source": [
        "df = pd.read_csv(\"https://storage.googleapis.com/dqlab-dataset/data_retail.csv\", sep=\";\")\n",
        "\n",
        "print('\\nInfo dataset:')\n",
        "df.info()"
      ],
      "metadata": {
        "colab": {
          "base_uri": "https://localhost:8080/"
        },
        "id": "3W-dhTDM-HJi",
        "outputId": "61e93127-987c-471e-f230-c1b155b3fab6"
      },
      "execution_count": 3,
      "outputs": [
        {
          "output_type": "stream",
          "name": "stdout",
          "text": [
            "\n",
            "Info dataset:\n",
            "<class 'pandas.core.frame.DataFrame'>\n",
            "RangeIndex: 100000 entries, 0 to 99999\n",
            "Data columns (total 8 columns):\n",
            " #   Column                      Non-Null Count   Dtype \n",
            "---  ------                      --------------   ----- \n",
            " 0   no                          100000 non-null  int64 \n",
            " 1   Row_Num                     100000 non-null  int64 \n",
            " 2   Customer_ID                 100000 non-null  int64 \n",
            " 3   Product                     100000 non-null  object\n",
            " 4   First_Transaction           100000 non-null  int64 \n",
            " 5   Last_Transaction            100000 non-null  int64 \n",
            " 6   Average_Transaction_Amount  100000 non-null  int64 \n",
            " 7   Count_Transaction           100000 non-null  int64 \n",
            "dtypes: int64(7), object(1)\n",
            "memory usage: 6.1+ MB\n"
          ]
        }
      ]
    },
    {
      "cell_type": "markdown",
      "source": [
        "- Menampilkan nama-nama kolom pada dataset"
      ],
      "metadata": {
        "id": "N1wXXYhsFto3"
      }
    },
    {
      "cell_type": "code",
      "source": [
        "print(\"\\nKolom daataset: \")\n",
        "df.columns"
      ],
      "metadata": {
        "colab": {
          "base_uri": "https://localhost:8080/"
        },
        "id": "8FSBqZEo-KC8",
        "outputId": "005878b2-75c4-41d9-f7e9-24e219e26093"
      },
      "execution_count": 4,
      "outputs": [
        {
          "output_type": "stream",
          "name": "stdout",
          "text": [
            "\n",
            "Kolom daataset: \n"
          ]
        },
        {
          "output_type": "execute_result",
          "data": {
            "text/plain": [
              "Index(['no', 'Row_Num', 'Customer_ID', 'Product', 'First_Transaction',\n",
              "       'Last_Transaction', 'Average_Transaction_Amount', 'Count_Transaction'],\n",
              "      dtype='object')"
            ]
          },
          "metadata": {},
          "execution_count": 4
        }
      ]
    },
    {
      "cell_type": "markdown",
      "source": [
        "- Menampilkan tipe data setiap kolom pada dataset"
      ],
      "metadata": {
        "id": "ZXSeeN-VF0hm"
      }
    },
    {
      "cell_type": "code",
      "source": [
        "print(\"\\nTipe data setiap kolom: \")\n",
        "df.dtypes"
      ],
      "metadata": {
        "colab": {
          "base_uri": "https://localhost:8080/"
        },
        "id": "jH3OmUsOAZz7",
        "outputId": "a5dac0d2-1456-4fbb-a606-45fda84d94b4"
      },
      "execution_count": 5,
      "outputs": [
        {
          "output_type": "stream",
          "name": "stdout",
          "text": [
            "\n",
            "Tipe data setiap kolom: \n"
          ]
        },
        {
          "output_type": "execute_result",
          "data": {
            "text/plain": [
              "no                             int64\n",
              "Row_Num                        int64\n",
              "Customer_ID                    int64\n",
              "Product                       object\n",
              "First_Transaction              int64\n",
              "Last_Transaction               int64\n",
              "Average_Transaction_Amount     int64\n",
              "Count_Transaction              int64\n",
              "dtype: object"
            ]
          },
          "metadata": {},
          "execution_count": 5
        }
      ]
    },
    {
      "cell_type": "markdown",
      "source": [
        "- Memeriksa keberadaan missing value pada dataset"
      ],
      "metadata": {
        "id": "jw-L81jMF-82"
      }
    },
    {
      "cell_type": "code",
      "source": [
        "# cek missing value menggunakan fungsi isnull() dan sum()\n",
        "df.isnull().sum()"
      ],
      "metadata": {
        "colab": {
          "base_uri": "https://localhost:8080/"
        },
        "id": "1VpEDOgPzjG6",
        "outputId": "d29c6bef-0cda-4806-ad9c-975b9a128a75"
      },
      "execution_count": 6,
      "outputs": [
        {
          "output_type": "execute_result",
          "data": {
            "text/plain": [
              "no                            0\n",
              "Row_Num                       0\n",
              "Customer_ID                   0\n",
              "Product                       0\n",
              "First_Transaction             0\n",
              "Last_Transaction              0\n",
              "Average_Transaction_Amount    0\n",
              "Count_Transaction             0\n",
              "dtype: int64"
            ]
          },
          "metadata": {},
          "execution_count": 6
        }
      ]
    },
    {
      "cell_type": "markdown",
      "source": [
        "# **2. Data Preparation**"
      ],
      "metadata": {
        "id": "EoPZ5d2LAhTy"
      }
    },
    {
      "cell_type": "markdown",
      "source": [
        "- Importing data: Melakukan import data_retail.csv ke python environment."
      ],
      "metadata": {
        "id": "MkO1WYCsA7Tq"
      }
    },
    {
      "cell_type": "code",
      "source": [
        "# load data .csv menggunakan fungsi read_csv()\n",
        "df = pd.read_csv(\"https://storage.googleapis.com/dqlab-dataset/data_retail.csv\", sep=\";\")"
      ],
      "metadata": {
        "id": "A2ZD9gqUBYGt"
      },
      "execution_count": 7,
      "outputs": []
    },
    {
      "cell_type": "markdown",
      "source": [
        "- Menampilkan 5 data awal dataset"
      ],
      "metadata": {
        "id": "z4QoldVHGJil"
      }
    },
    {
      "cell_type": "code",
      "source": [
        "print(\"\\nMenampilkan 5 data awal: \")\n",
        "df.head()"
      ],
      "metadata": {
        "colab": {
          "base_uri": "https://localhost:8080/",
          "height": 241
        },
        "id": "AYtoJAZSBdHr",
        "outputId": "9b83b228-c74a-442b-fa39-2b8d11184c24"
      },
      "execution_count": 8,
      "outputs": [
        {
          "output_type": "stream",
          "name": "stdout",
          "text": [
            "\n",
            "Menampilkan 5 data awal: \n"
          ]
        },
        {
          "output_type": "execute_result",
          "data": {
            "text/plain": [
              "   no  Row_Num  Customer_ID Product  First_Transaction  Last_Transaction  \\\n",
              "0   1        1        29531   Jaket      1466304274396     1538718482608   \n",
              "1   2        2        29531  Sepatu      1406077331494     1545735761270   \n",
              "2   3        3       141526     Tas      1493349147000     1548322802000   \n",
              "3   4        4       141526   Jaket      1493362372547     1547643603911   \n",
              "4   5        5        37545  Sepatu      1429178498531     1542891221530   \n",
              "\n",
              "   Average_Transaction_Amount  Count_Transaction  \n",
              "0                     1467681                 22  \n",
              "1                     1269337                 41  \n",
              "2                      310915                 30  \n",
              "3                      722632                 27  \n",
              "4                     1775036                 25  "
            ],
            "text/html": [
              "\n",
              "  <div id=\"df-fe091f40-139a-4ccf-b9df-f7fa573c905e\">\n",
              "    <div class=\"colab-df-container\">\n",
              "      <div>\n",
              "<style scoped>\n",
              "    .dataframe tbody tr th:only-of-type {\n",
              "        vertical-align: middle;\n",
              "    }\n",
              "\n",
              "    .dataframe tbody tr th {\n",
              "        vertical-align: top;\n",
              "    }\n",
              "\n",
              "    .dataframe thead th {\n",
              "        text-align: right;\n",
              "    }\n",
              "</style>\n",
              "<table border=\"1\" class=\"dataframe\">\n",
              "  <thead>\n",
              "    <tr style=\"text-align: right;\">\n",
              "      <th></th>\n",
              "      <th>no</th>\n",
              "      <th>Row_Num</th>\n",
              "      <th>Customer_ID</th>\n",
              "      <th>Product</th>\n",
              "      <th>First_Transaction</th>\n",
              "      <th>Last_Transaction</th>\n",
              "      <th>Average_Transaction_Amount</th>\n",
              "      <th>Count_Transaction</th>\n",
              "    </tr>\n",
              "  </thead>\n",
              "  <tbody>\n",
              "    <tr>\n",
              "      <th>0</th>\n",
              "      <td>1</td>\n",
              "      <td>1</td>\n",
              "      <td>29531</td>\n",
              "      <td>Jaket</td>\n",
              "      <td>1466304274396</td>\n",
              "      <td>1538718482608</td>\n",
              "      <td>1467681</td>\n",
              "      <td>22</td>\n",
              "    </tr>\n",
              "    <tr>\n",
              "      <th>1</th>\n",
              "      <td>2</td>\n",
              "      <td>2</td>\n",
              "      <td>29531</td>\n",
              "      <td>Sepatu</td>\n",
              "      <td>1406077331494</td>\n",
              "      <td>1545735761270</td>\n",
              "      <td>1269337</td>\n",
              "      <td>41</td>\n",
              "    </tr>\n",
              "    <tr>\n",
              "      <th>2</th>\n",
              "      <td>3</td>\n",
              "      <td>3</td>\n",
              "      <td>141526</td>\n",
              "      <td>Tas</td>\n",
              "      <td>1493349147000</td>\n",
              "      <td>1548322802000</td>\n",
              "      <td>310915</td>\n",
              "      <td>30</td>\n",
              "    </tr>\n",
              "    <tr>\n",
              "      <th>3</th>\n",
              "      <td>4</td>\n",
              "      <td>4</td>\n",
              "      <td>141526</td>\n",
              "      <td>Jaket</td>\n",
              "      <td>1493362372547</td>\n",
              "      <td>1547643603911</td>\n",
              "      <td>722632</td>\n",
              "      <td>27</td>\n",
              "    </tr>\n",
              "    <tr>\n",
              "      <th>4</th>\n",
              "      <td>5</td>\n",
              "      <td>5</td>\n",
              "      <td>37545</td>\n",
              "      <td>Sepatu</td>\n",
              "      <td>1429178498531</td>\n",
              "      <td>1542891221530</td>\n",
              "      <td>1775036</td>\n",
              "      <td>25</td>\n",
              "    </tr>\n",
              "  </tbody>\n",
              "</table>\n",
              "</div>\n",
              "      <button class=\"colab-df-convert\" onclick=\"convertToInteractive('df-fe091f40-139a-4ccf-b9df-f7fa573c905e')\"\n",
              "              title=\"Convert this dataframe to an interactive table.\"\n",
              "              style=\"display:none;\">\n",
              "        \n",
              "  <svg xmlns=\"http://www.w3.org/2000/svg\" height=\"24px\"viewBox=\"0 0 24 24\"\n",
              "       width=\"24px\">\n",
              "    <path d=\"M0 0h24v24H0V0z\" fill=\"none\"/>\n",
              "    <path d=\"M18.56 5.44l.94 2.06.94-2.06 2.06-.94-2.06-.94-.94-2.06-.94 2.06-2.06.94zm-11 1L8.5 8.5l.94-2.06 2.06-.94-2.06-.94L8.5 2.5l-.94 2.06-2.06.94zm10 10l.94 2.06.94-2.06 2.06-.94-2.06-.94-.94-2.06-.94 2.06-2.06.94z\"/><path d=\"M17.41 7.96l-1.37-1.37c-.4-.4-.92-.59-1.43-.59-.52 0-1.04.2-1.43.59L10.3 9.45l-7.72 7.72c-.78.78-.78 2.05 0 2.83L4 21.41c.39.39.9.59 1.41.59.51 0 1.02-.2 1.41-.59l7.78-7.78 2.81-2.81c.8-.78.8-2.07 0-2.86zM5.41 20L4 18.59l7.72-7.72 1.47 1.35L5.41 20z\"/>\n",
              "  </svg>\n",
              "      </button>\n",
              "      \n",
              "  <style>\n",
              "    .colab-df-container {\n",
              "      display:flex;\n",
              "      flex-wrap:wrap;\n",
              "      gap: 12px;\n",
              "    }\n",
              "\n",
              "    .colab-df-convert {\n",
              "      background-color: #E8F0FE;\n",
              "      border: none;\n",
              "      border-radius: 50%;\n",
              "      cursor: pointer;\n",
              "      display: none;\n",
              "      fill: #1967D2;\n",
              "      height: 32px;\n",
              "      padding: 0 0 0 0;\n",
              "      width: 32px;\n",
              "    }\n",
              "\n",
              "    .colab-df-convert:hover {\n",
              "      background-color: #E2EBFA;\n",
              "      box-shadow: 0px 1px 2px rgba(60, 64, 67, 0.3), 0px 1px 3px 1px rgba(60, 64, 67, 0.15);\n",
              "      fill: #174EA6;\n",
              "    }\n",
              "\n",
              "    [theme=dark] .colab-df-convert {\n",
              "      background-color: #3B4455;\n",
              "      fill: #D2E3FC;\n",
              "    }\n",
              "\n",
              "    [theme=dark] .colab-df-convert:hover {\n",
              "      background-color: #434B5C;\n",
              "      box-shadow: 0px 1px 3px 1px rgba(0, 0, 0, 0.15);\n",
              "      filter: drop-shadow(0px 1px 2px rgba(0, 0, 0, 0.3));\n",
              "      fill: #FFFFFF;\n",
              "    }\n",
              "  </style>\n",
              "\n",
              "      <script>\n",
              "        const buttonEl =\n",
              "          document.querySelector('#df-fe091f40-139a-4ccf-b9df-f7fa573c905e button.colab-df-convert');\n",
              "        buttonEl.style.display =\n",
              "          google.colab.kernel.accessAllowed ? 'block' : 'none';\n",
              "\n",
              "        async function convertToInteractive(key) {\n",
              "          const element = document.querySelector('#df-fe091f40-139a-4ccf-b9df-f7fa573c905e');\n",
              "          const dataTable =\n",
              "            await google.colab.kernel.invokeFunction('convertToInteractive',\n",
              "                                                     [key], {});\n",
              "          if (!dataTable) return;\n",
              "\n",
              "          const docLinkHtml = 'Like what you see? Visit the ' +\n",
              "            '<a target=\"_blank\" href=https://colab.research.google.com/notebooks/data_table.ipynb>data table notebook</a>'\n",
              "            + ' to learn more about interactive tables.';\n",
              "          element.innerHTML = '';\n",
              "          dataTable['output_type'] = 'display_data';\n",
              "          await google.colab.output.renderOutput(dataTable, element);\n",
              "          const docLink = document.createElement('div');\n",
              "          docLink.innerHTML = docLinkHtml;\n",
              "          element.appendChild(docLink);\n",
              "        }\n",
              "      </script>\n",
              "    </div>\n",
              "  </div>\n",
              "  "
            ]
          },
          "metadata": {},
          "execution_count": 8
        }
      ]
    },
    {
      "cell_type": "markdown",
      "source": [
        "- Cleansing data: Melakukan pembersihan dan modifikasi data sehingga siap digunakan untuk analisis lebih lanjut. (rubahlah data First_Transaction dan Last_Transaction menjadi format date_time yang bisa dibaca)."
      ],
      "metadata": {
        "id": "rfIxVJquBTS6"
      }
    },
    {
      "cell_type": "code",
      "source": [
        "# mengubah tipe data menjadi datetime menggunakan fungsi to_datetime()\n",
        "df['First_Transaction'] = pd.to_datetime(df['First_Transaction']/1000, unit='s', origin='1970-01-01')\n",
        "df['Last_Transaction'] = pd.to_datetime(df['Last_Transaction']/1000, unit='s', origin='1970-01-01')"
      ],
      "metadata": {
        "id": "CWua_H9LBXRx"
      },
      "execution_count": 9,
      "outputs": []
    },
    {
      "cell_type": "code",
      "source": [
        "print('\\nInfo dataset:')\n",
        "print(df.info())"
      ],
      "metadata": {
        "colab": {
          "base_uri": "https://localhost:8080/"
        },
        "id": "3JHhMXnjcQEu",
        "outputId": "6a2b9c51-b0db-422e-9ed5-68b0782b13d3"
      },
      "execution_count": 10,
      "outputs": [
        {
          "output_type": "stream",
          "name": "stdout",
          "text": [
            "\n",
            "Info dataset:\n",
            "<class 'pandas.core.frame.DataFrame'>\n",
            "RangeIndex: 100000 entries, 0 to 99999\n",
            "Data columns (total 8 columns):\n",
            " #   Column                      Non-Null Count   Dtype         \n",
            "---  ------                      --------------   -----         \n",
            " 0   no                          100000 non-null  int64         \n",
            " 1   Row_Num                     100000 non-null  int64         \n",
            " 2   Customer_ID                 100000 non-null  int64         \n",
            " 3   Product                     100000 non-null  object        \n",
            " 4   First_Transaction           100000 non-null  datetime64[ns]\n",
            " 5   Last_Transaction            100000 non-null  datetime64[ns]\n",
            " 6   Average_Transaction_Amount  100000 non-null  int64         \n",
            " 7   Count_Transaction           100000 non-null  int64         \n",
            "dtypes: datetime64[ns](2), int64(5), object(1)\n",
            "memory usage: 6.1+ MB\n",
            "None\n"
          ]
        }
      ]
    },
    {
      "cell_type": "markdown",
      "source": [
        "# **3. Exploratory Data Analysis (EDA)**"
      ],
      "metadata": {
        "id": "LdiTJ07ccQ3h"
      }
    },
    {
      "cell_type": "markdown",
      "source": [
        "#### Pie Chart: Visualisasi Persentase Produk Terjual"
      ],
      "metadata": {
        "id": "hVHk6v7s8tDp"
      }
    },
    {
      "cell_type": "code",
      "source": [
        "# set style chart dengan tema \"bmh\"\n",
        "plt.style.use('bmh')\n",
        "\n",
        "# set figure size\n",
        "plt.figure(figsize=(6,6))\n",
        "\n",
        "# set label plot\n",
        "label=['Sepatu','Jaket','Tas','Baju']\n",
        "\n",
        "# menampilkan pie chart menggunakan fungsi pie\n",
        "plt.pie(df['Product'].value_counts(), \n",
        "        labels=label, \n",
        "        autopct='%1.2f%%', \n",
        "        startangle=180,\n",
        "        textprops={'fontsize': 14})\n",
        "\n",
        "# set title pie chart\n",
        "plt.title('Persentase Produk Terjual', loc='center', pad=10, fontsize=18)\n",
        "\n",
        "# set legenda pie chart\n",
        "plt.legend(bbox_to_anchor=(0.85,1.025), loc=\"upper left\")\n",
        "plt.tight_layout()\n",
        "plt.show()"
      ],
      "metadata": {
        "colab": {
          "base_uri": "https://localhost:8080/",
          "height": 436
        },
        "id": "90cWf03FMUvN",
        "outputId": "a5149dae-0c57-47f1-d83c-9655088b22fe"
      },
      "execution_count": 11,
      "outputs": [
        {
          "output_type": "display_data",
          "data": {
            "text/plain": [
              "<Figure size 432x432 with 1 Axes>"
            ],
            "image/png": "[encoded data removed]"
          },
          "metadata": {}
        }
      ]
    },
    {
      "cell_type": "markdown",
      "source": [
        "##### **Summary**\n",
        "- Sepatu merupakan produk dengan penjualan terbanyak dengan persentase sebesar 49.15% dari keseluruhan penjualan.\n",
        "- Baju merupakan produk dengan penjualan terendah dengan persentase sebesar 3.41% dari keseluruhan penjualan.\n",
        "- Urutan penjualan produk dari yang terbanyak ke terendah: <br>\n",
        "  1. Sepatu\n",
        "  2. Jaket\n",
        "  3. Tas\n",
        "  4. Baju"
      ],
      "metadata": {
        "id": "3yvbLe5pJ84Y"
      }
    },
    {
      "cell_type": "markdown",
      "source": [
        "#### Bar Chart: Visualisasi Jumlah Produk Terjual"
      ],
      "metadata": {
        "id": "7JSul61U863G"
      }
    },
    {
      "cell_type": "code",
      "source": [
        "# set style chart dengan tema \"fivethirtyeight\"\n",
        "plt.style.use('fivethirtyeight')\n",
        "\n",
        "# set figure size\n",
        "plt.figure(figsize=(8,6))\n",
        "\n",
        "# menampilkan countplot menggunakan fungsi countplot\n",
        "ax = sns.countplot(data=df, x=\"Product\")\n",
        "ax.bar_label(ax.containers[0])\n",
        "\n",
        "# set title countplot\n",
        "plt.title(\"Bar Chart Jumlah Produk Terjual\", pad=30)"
      ],
      "metadata": {
        "colab": {
          "base_uri": "https://localhost:8080/",
          "height": 482
        },
        "id": "f_hzt5kdSRJ5",
        "outputId": "fe25c587-2ee8-4c81-fa58-0c0a637c539e"
      },
      "execution_count": 12,
      "outputs": [
        {
          "output_type": "execute_result",
          "data": {
            "text/plain": [
              "Text(0.5, 1.0, 'Bar Chart Jumlah Produk Terjual')"
            ]
          },
          "metadata": {},
          "execution_count": 12
        },
        {
          "output_type": "display_data",
          "data": {
            "text/plain": [
              "<Figure size 576x432 with 1 Axes>"
            ],
            "image/png": "[encoded data removed]"
          },
          "metadata": {}
        }
      ]
    },
    {
      "cell_type": "markdown",
      "source": [
        "##### **Summary**\n",
        "- Produk paling banyak terjual adalah **sepatu** dengan jumlah 49154.\n",
        "- Produk paling sedikit terjual adalah **baju** dengan jumlah 3412."
      ],
      "metadata": {
        "id": "klI3MMFONBcW"
      }
    },
    {
      "cell_type": "markdown",
      "source": [
        "#### Bar Chart: Visualisasi Jumlah Tahun Pertama Transaksi Per Tahun"
      ],
      "metadata": {
        "id": "68ZcgBW89GJa"
      }
    },
    {
      "cell_type": "code",
      "source": [
        "# set figure size\n",
        "plt.figure(figsize=(8,6))\n",
        "\n",
        "# menampilkan countplot menggunakan fungsi countplot\n",
        "ax = sns.countplot(data=df, x=df['First_Transaction'].dt.year)\n",
        "ax.bar_label(ax.containers[0])\n",
        "\n",
        "# set title countplot\n",
        "plt.title(\"Bar Plot Jumlah Tahun Pertama Transaksi Per Tahun\", pad=30)"
      ],
      "metadata": {
        "colab": {
          "base_uri": "https://localhost:8080/",
          "height": 483
        },
        "id": "Vpm16G0tstoq",
        "outputId": "68abbcc4-7eb4-4daf-a932-b73f483fdb46"
      },
      "execution_count": 13,
      "outputs": [
        {
          "output_type": "execute_result",
          "data": {
            "text/plain": [
              "Text(0.5, 1.0, 'Bar Plot Jumlah Tahun Pertama Transaksi Per Tahun')"
            ]
          },
          "metadata": {},
          "execution_count": 13
        },
        {
          "output_type": "display_data",
          "data": {
            "text/plain": [
              "<Figure size 576x432 with 1 Axes>"
            ],
            "image/png": "[encoded data removed]"
          },
          "metadata": {}
        }
      ]
    },
    {
      "cell_type": "markdown",
      "source": [
        "##### **Summary**\n",
        " - Periode tahun 2013 - 2017 mengalami peningkatan jumlah First_Transaction.\n",
        " - Periode tahun 2017 - 2019 mengalami penurunan jumlah First_Transaction.\n",
        " - Jumlah First_Transaction terbanyak terdapat pada tahun 2017 dengan jumlah sebanyak 31.828.\n",
        " - Jumlah First_Transaction tersedikit terdapat pada tahun 2013 dengan jumlah sebanyak 1.007."
      ],
      "metadata": {
        "id": "iw5rVDQqOIra"
      }
    },
    {
      "cell_type": "markdown",
      "source": [
        "#### Heatmap Chart: Visualisasi Nilai Korelasi Antara Kolom Average_Transaction_Amount dan Count_Transaction"
      ],
      "metadata": {
        "id": "MfxvZzhq9QPs"
      }
    },
    {
      "cell_type": "code",
      "source": [
        "# set figure size\n",
        "plt.figure(figsize=(8,6))\n",
        "\n",
        "df_heatmap = df.drop(['no', 'Row_Num', 'Customer_ID'], axis=1)\n",
        "\n",
        "# menampilkan nilai korelasi antara kolom menggunakan fungsi heatmap\n",
        "sns.heatmap(df_heatmap.corr(), cmap=\"RdBu\", annot=True, vmin=-1, vmax=1)\n",
        "\n",
        "# set title heatmap\n",
        "plt.title(\"Nilai Korelasi Antara Kolom Average_Transaction_Amount\\n dan Count_Transaction\", pad=30)"
      ],
      "metadata": {
        "colab": {
          "base_uri": "https://localhost:8080/",
          "height": 483
        },
        "id": "t1-iBeCK0RTS",
        "outputId": "475ea84e-65cc-4fac-e0d3-601af744e0ba"
      },
      "execution_count": 14,
      "outputs": [
        {
          "output_type": "execute_result",
          "data": {
            "text/plain": [
              "Text(0.5, 1.0, 'Nilai Korelasi Antara Kolom Average_Transaction_Amount\\n dan Count_Transaction')"
            ]
          },
          "metadata": {},
          "execution_count": 14
        },
        {
          "output_type": "display_data",
          "data": {
            "text/plain": [
              "<Figure size 576x432 with 2 Axes>"
            ],
            "image/png": "[encoded data removed]"
          },
          "metadata": {}
        }
      ]
    },
    {
      "cell_type": "markdown",
      "source": [
        "##### **Summary**\n",
        "- Nilai korelasi antara kolom Average_Transaction_Amount dan Count_Transaction bernilai 0.0062 yang bermakna bahwa kedua kolom tersebut sedikit berkorelasi positif karena mendekati angka 1."
      ],
      "metadata": {
        "id": "bsRL5CPwSf0f"
      }
    },
    {
      "cell_type": "markdown",
      "source": [
        "# **4. Data Pre-processing**"
      ],
      "metadata": {
        "id": "wIXwhtsAc4ov"
      }
    },
    {
      "cell_type": "markdown",
      "source": [
        "- Menambahkan kolom \"is_Churn\" yang yang berfungsi sebagai kolom target dengan nilai **True** atau **False** berdasarkan kriteria yang telah ditentukan"
      ],
      "metadata": {
        "id": "I1h0py0DVZnS"
      }
    },
    {
      "cell_type": "code",
      "source": [
        "# Pengecekan transaksaksi terakhir dalam dataset\n",
        "print(\"Tanggal transaksi terakhir dalam dataset: \")\n",
        "print(max(df['Last_Transaction']))\n",
        "\n",
        "# Klasifikasikan customer yang berstatus Churn atau tidak dengan boolean\n",
        "df.loc[df['Last_Transaction'] <= '2018-08-01', 'Churn'] = True\n",
        "df.loc[df['Last_Transaction'] > '2018-08-01', 'Churn'] = False\n",
        "\n",
        "print('\\nLima data teratas:')\n",
        "df"
      ],
      "metadata": {
        "colab": {
          "base_uri": "https://localhost:8080/",
          "height": 493
        },
        "id": "DroIdkKf0ksy",
        "outputId": "850d48e7-b4ca-4fc2-b29d-898f36b08d1c"
      },
      "execution_count": 15,
      "outputs": [
        {
          "output_type": "stream",
          "name": "stdout",
          "text": [
            "Tanggal transaksi terakhir dalam dataset: \n",
            "2019-02-01 23:57:57.286000128\n",
            "\n",
            "Lima data teratas:\n"
          ]
        },
        {
          "output_type": "execute_result",
          "data": {
            "text/plain": [
              "           no  Row_Num  Customer_ID Product             First_Transaction  \\\n",
              "0           1        1        29531   Jaket 2016-06-19 02:44:34.396000000   \n",
              "1           2        2        29531  Sepatu 2014-07-23 01:02:11.493999872   \n",
              "2           3        3       141526     Tas 2017-04-28 03:12:27.000000000   \n",
              "3           4        4       141526   Jaket 2017-04-28 06:52:52.546999808   \n",
              "4           5        5        37545  Sepatu 2015-04-16 10:01:38.530999808   \n",
              "...       ...      ...          ...     ...                           ...   \n",
              "99995   99996    99996        56249   Jaket 2016-06-01 11:35:39.092000000   \n",
              "99996   99997    99997        56249  Sepatu 2017-02-09 05:46:10.763000064   \n",
              "99997   99998    99998        34157   Jaket 2015-08-30 08:54:20.706000128   \n",
              "99998   99999    99999        34157  Sepatu 2014-11-14 02:42:28.026000128   \n",
              "99999  100000   100000       188822   Jaket 2018-10-24 09:36:04.124999936   \n",
              "\n",
              "                   Last_Transaction  Average_Transaction_Amount  \\\n",
              "0     2018-10-05 05:48:02.608000000                     1467681   \n",
              "1     2018-12-25 11:02:41.269999872                     1269337   \n",
              "2     2019-01-24 09:40:02.000000000                      310915   \n",
              "3     2019-01-16 13:00:03.911000064                      722632   \n",
              "4     2018-11-22 12:53:41.529999872                     1775036   \n",
              "...                             ...                         ...   \n",
              "99995 2016-06-01 11:35:39.092000000                      298662   \n",
              "99996 2017-02-09 05:46:10.763000064                      349556   \n",
              "99997 2015-08-30 08:54:20.706000128                      598013   \n",
              "99998 2014-11-14 02:42:28.026000128                     1208591   \n",
              "99999 2018-10-24 09:36:04.124999936                      486710   \n",
              "\n",
              "       Count_Transaction  Churn  \n",
              "0                     22  False  \n",
              "1                     41  False  \n",
              "2                     30  False  \n",
              "3                     27  False  \n",
              "4                     25  False  \n",
              "...                  ...    ...  \n",
              "99995                  1   True  \n",
              "99996                  1   True  \n",
              "99997                  1   True  \n",
              "99998                  1   True  \n",
              "99999                  1  False  \n",
              "\n",
              "[100000 rows x 9 columns]"
            ],
            "text/html": [
              "\n",
              "  <div id=\"df-90edf900-1a86-4d0d-87ab-dc300f74deeb\">\n",
              "    <div class=\"colab-df-container\">\n",
              "      <div>\n",
              "<style scoped>\n",
              "    .dataframe tbody tr th:only-of-type {\n",
              "        vertical-align: middle;\n",
              "    }\n",
              "\n",
              "    .dataframe tbody tr th {\n",
              "        vertical-align: top;\n",
              "    }\n",
              "\n",
              "    .dataframe thead th {\n",
              "        text-align: right;\n",
              "    }\n",
              "</style>\n",
              "<table border=\"1\" class=\"dataframe\">\n",
              "  <thead>\n",
              "    <tr style=\"text-align: right;\">\n",
              "      <th></th>\n",
              "      <th>no</th>\n",
              "      <th>Row_Num</th>\n",
              "      <th>Customer_ID</th>\n",
              "      <th>Product</th>\n",
              "      <th>First_Transaction</th>\n",
              "      <th>Last_Transaction</th>\n",
              "      <th>Average_Transaction_Amount</th>\n",
              "      <th>Count_Transaction</th>\n",
              "      <th>Churn</th>\n",
              "    </tr>\n",
              "  </thead>\n",
              "  <tbody>\n",
              "    <tr>\n",
              "      <th>0</th>\n",
              "      <td>1</td>\n",
              "      <td>1</td>\n",
              "      <td>29531</td>\n",
              "      <td>Jaket</td>\n",
              "      <td>2016-06-19 02:44:34.396000000</td>\n",
              "      <td>2018-10-05 05:48:02.608000000</td>\n",
              "      <td>1467681</td>\n",
              "      <td>22</td>\n",
              "      <td>False</td>\n",
              "    </tr>\n",
              "    <tr>\n",
              "      <th>1</th>\n",
              "      <td>2</td>\n",
              "      <td>2</td>\n",
              "      <td>29531</td>\n",
              "      <td>Sepatu</td>\n",
              "      <td>2014-07-23 01:02:11.493999872</td>\n",
              "      <td>2018-12-25 11:02:41.269999872</td>\n",
              "      <td>1269337</td>\n",
              "      <td>41</td>\n",
              "      <td>False</td>\n",
              "    </tr>\n",
              "    <tr>\n",
              "      <th>2</th>\n",
              "      <td>3</td>\n",
              "      <td>3</td>\n",
              "      <td>141526</td>\n",
              "      <td>Tas</td>\n",
              "      <td>2017-04-28 03:12:27.000000000</td>\n",
              "      <td>2019-01-24 09:40:02.000000000</td>\n",
              "      <td>310915</td>\n",
              "      <td>30</td>\n",
              "      <td>False</td>\n",
              "    </tr>\n",
              "    <tr>\n",
              "      <th>3</th>\n",
              "      <td>4</td>\n",
              "      <td>4</td>\n",
              "      <td>141526</td>\n",
              "      <td>Jaket</td>\n",
              "      <td>2017-04-28 06:52:52.546999808</td>\n",
              "      <td>2019-01-16 13:00:03.911000064</td>\n",
              "      <td>722632</td>\n",
              "      <td>27</td>\n",
              "      <td>False</td>\n",
              "    </tr>\n",
              "    <tr>\n",
              "      <th>4</th>\n",
              "      <td>5</td>\n",
              "      <td>5</td>\n",
              "      <td>37545</td>\n",
              "      <td>Sepatu</td>\n",
              "      <td>2015-04-16 10:01:38.530999808</td>\n",
              "      <td>2018-11-22 12:53:41.529999872</td>\n",
              "      <td>1775036</td>\n",
              "      <td>25</td>\n",
              "      <td>False</td>\n",
              "    </tr>\n",
              "    <tr>\n",
              "      <th>...</th>\n",
              "      <td>...</td>\n",
              "      <td>...</td>\n",
              "      <td>...</td>\n",
              "      <td>...</td>\n",
              "      <td>...</td>\n",
              "      <td>...</td>\n",
              "      <td>...</td>\n",
              "      <td>...</td>\n",
              "      <td>...</td>\n",
              "    </tr>\n",
              "    <tr>\n",
              "      <th>99995</th>\n",
              "      <td>99996</td>\n",
              "      <td>99996</td>\n",
              "      <td>56249</td>\n",
              "      <td>Jaket</td>\n",
              "      <td>2016-06-01 11:35:39.092000000</td>\n",
              "      <td>2016-06-01 11:35:39.092000000</td>\n",
              "      <td>298662</td>\n",
              "      <td>1</td>\n",
              "      <td>True</td>\n",
              "    </tr>\n",
              "    <tr>\n",
              "      <th>99996</th>\n",
              "      <td>99997</td>\n",
              "      <td>99997</td>\n",
              "      <td>56249</td>\n",
              "      <td>Sepatu</td>\n",
              "      <td>2017-02-09 05:46:10.763000064</td>\n",
              "      <td>2017-02-09 05:46:10.763000064</td>\n",
              "      <td>349556</td>\n",
              "      <td>1</td>\n",
              "      <td>True</td>\n",
              "    </tr>\n",
              "    <tr>\n",
              "      <th>99997</th>\n",
              "      <td>99998</td>\n",
              "      <td>99998</td>\n",
              "      <td>34157</td>\n",
              "      <td>Jaket</td>\n",
              "      <td>2015-08-30 08:54:20.706000128</td>\n",
              "      <td>2015-08-30 08:54:20.706000128</td>\n",
              "      <td>598013</td>\n",
              "      <td>1</td>\n",
              "      <td>True</td>\n",
              "    </tr>\n",
              "    <tr>\n",
              "      <th>99998</th>\n",
              "      <td>99999</td>\n",
              "      <td>99999</td>\n",
              "      <td>34157</td>\n",
              "      <td>Sepatu</td>\n",
              "      <td>2014-11-14 02:42:28.026000128</td>\n",
              "      <td>2014-11-14 02:42:28.026000128</td>\n",
              "      <td>1208591</td>\n",
              "      <td>1</td>\n",
              "      <td>True</td>\n",
              "    </tr>\n",
              "    <tr>\n",
              "      <th>99999</th>\n",
              "      <td>100000</td>\n",
              "      <td>100000</td>\n",
              "      <td>188822</td>\n",
              "      <td>Jaket</td>\n",
              "      <td>2018-10-24 09:36:04.124999936</td>\n",
              "      <td>2018-10-24 09:36:04.124999936</td>\n",
              "      <td>486710</td>\n",
              "      <td>1</td>\n",
              "      <td>False</td>\n",
              "    </tr>\n",
              "  </tbody>\n",
              "</table>\n",
              "<p>100000 rows × 9 columns</p>\n",
              "</div>\n",
              "      <button class=\"colab-df-convert\" onclick=\"convertToInteractive('df-90edf900-1a86-4d0d-87ab-dc300f74deeb')\"\n",
              "              title=\"Convert this dataframe to an interactive table.\"\n",
              "              style=\"display:none;\">\n",
              "        \n",
              "  <svg xmlns=\"http://www.w3.org/2000/svg\" height=\"24px\"viewBox=\"0 0 24 24\"\n",
              "       width=\"24px\">\n",
              "    <path d=\"M0 0h24v24H0V0z\" fill=\"none\"/>\n",
              "    <path d=\"M18.56 5.44l.94 2.06.94-2.06 2.06-.94-2.06-.94-.94-2.06-.94 2.06-2.06.94zm-11 1L8.5 8.5l.94-2.06 2.06-.94-2.06-.94L8.5 2.5l-.94 2.06-2.06.94zm10 10l.94 2.06.94-2.06 2.06-.94-2.06-.94-.94-2.06-.94 2.06-2.06.94z\"/><path d=\"M17.41 7.96l-1.37-1.37c-.4-.4-.92-.59-1.43-.59-.52 0-1.04.2-1.43.59L10.3 9.45l-7.72 7.72c-.78.78-.78 2.05 0 2.83L4 21.41c.39.39.9.59 1.41.59.51 0 1.02-.2 1.41-.59l7.78-7.78 2.81-2.81c.8-.78.8-2.07 0-2.86zM5.41 20L4 18.59l7.72-7.72 1.47 1.35L5.41 20z\"/>\n",
              "  </svg>\n",
              "      </button>\n",
              "      \n",
              "  <style>\n",
              "    .colab-df-container {\n",
              "      display:flex;\n",
              "      flex-wrap:wrap;\n",
              "      gap: 12px;\n",
              "    }\n",
              "\n",
              "    .colab-df-convert {\n",
              "      background-color: #E8F0FE;\n",
              "      border: none;\n",
              "      border-radius: 50%;\n",
              "      cursor: pointer;\n",
              "      display: none;\n",
              "      fill: #1967D2;\n",
              "      height: 32px;\n",
              "      padding: 0 0 0 0;\n",
              "      width: 32px;\n",
              "    }\n",
              "\n",
              "    .colab-df-convert:hover {\n",
              "      background-color: #E2EBFA;\n",
              "      box-shadow: 0px 1px 2px rgba(60, 64, 67, 0.3), 0px 1px 3px 1px rgba(60, 64, 67, 0.15);\n",
              "      fill: #174EA6;\n",
              "    }\n",
              "\n",
              "    [theme=dark] .colab-df-convert {\n",
              "      background-color: #3B4455;\n",
              "      fill: #D2E3FC;\n",
              "    }\n",
              "\n",
              "    [theme=dark] .colab-df-convert:hover {\n",
              "      background-color: #434B5C;\n",
              "      box-shadow: 0px 1px 3px 1px rgba(0, 0, 0, 0.15);\n",
              "      filter: drop-shadow(0px 1px 2px rgba(0, 0, 0, 0.3));\n",
              "      fill: #FFFFFF;\n",
              "    }\n",
              "  </style>\n",
              "\n",
              "      <script>\n",
              "        const buttonEl =\n",
              "          document.querySelector('#df-90edf900-1a86-4d0d-87ab-dc300f74deeb button.colab-df-convert');\n",
              "        buttonEl.style.display =\n",
              "          google.colab.kernel.accessAllowed ? 'block' : 'none';\n",
              "\n",
              "        async function convertToInteractive(key) {\n",
              "          const element = document.querySelector('#df-90edf900-1a86-4d0d-87ab-dc300f74deeb');\n",
              "          const dataTable =\n",
              "            await google.colab.kernel.invokeFunction('convertToInteractive',\n",
              "                                                     [key], {});\n",
              "          if (!dataTable) return;\n",
              "\n",
              "          const docLinkHtml = 'Like what you see? Visit the ' +\n",
              "            '<a target=\"_blank\" href=https://colab.research.google.com/notebooks/data_table.ipynb>data table notebook</a>'\n",
              "            + ' to learn more about interactive tables.';\n",
              "          element.innerHTML = '';\n",
              "          dataTable['output_type'] = 'display_data';\n",
              "          await google.colab.output.renderOutput(dataTable, element);\n",
              "          const docLink = document.createElement('div');\n",
              "          docLink.innerHTML = docLinkHtml;\n",
              "          element.appendChild(docLink);\n",
              "        }\n",
              "      </script>\n",
              "    </div>\n",
              "  </div>\n",
              "  "
            ]
          },
          "metadata": {},
          "execution_count": 15
        }
      ]
    },
    {
      "cell_type": "markdown",
      "source": [
        "- Menghapus kolom yang tidak diperlukan, yaitu **no**, **Row_num**, dan **Customer_ID**."
      ],
      "metadata": {
        "id": "COX-st2cV44t"
      }
    },
    {
      "cell_type": "code",
      "source": [
        "df = df.drop(['no','Row_Num','Customer_ID'], axis=1)\n",
        "df"
      ],
      "metadata": {
        "colab": {
          "base_uri": "https://localhost:8080/",
          "height": 423
        },
        "id": "86IjOlunWY3z",
        "outputId": "29c40b90-9f38-4cec-d238-6ad2d9e0d05b"
      },
      "execution_count": 16,
      "outputs": [
        {
          "output_type": "execute_result",
          "data": {
            "text/plain": [
              "      Product             First_Transaction              Last_Transaction  \\\n",
              "0       Jaket 2016-06-19 02:44:34.396000000 2018-10-05 05:48:02.608000000   \n",
              "1      Sepatu 2014-07-23 01:02:11.493999872 2018-12-25 11:02:41.269999872   \n",
              "2         Tas 2017-04-28 03:12:27.000000000 2019-01-24 09:40:02.000000000   \n",
              "3       Jaket 2017-04-28 06:52:52.546999808 2019-01-16 13:00:03.911000064   \n",
              "4      Sepatu 2015-04-16 10:01:38.530999808 2018-11-22 12:53:41.529999872   \n",
              "...       ...                           ...                           ...   \n",
              "99995   Jaket 2016-06-01 11:35:39.092000000 2016-06-01 11:35:39.092000000   \n",
              "99996  Sepatu 2017-02-09 05:46:10.763000064 2017-02-09 05:46:10.763000064   \n",
              "99997   Jaket 2015-08-30 08:54:20.706000128 2015-08-30 08:54:20.706000128   \n",
              "99998  Sepatu 2014-11-14 02:42:28.026000128 2014-11-14 02:42:28.026000128   \n",
              "99999   Jaket 2018-10-24 09:36:04.124999936 2018-10-24 09:36:04.124999936   \n",
              "\n",
              "       Average_Transaction_Amount  Count_Transaction  Churn  \n",
              "0                         1467681                 22  False  \n",
              "1                         1269337                 41  False  \n",
              "2                          310915                 30  False  \n",
              "3                          722632                 27  False  \n",
              "4                         1775036                 25  False  \n",
              "...                           ...                ...    ...  \n",
              "99995                      298662                  1   True  \n",
              "99996                      349556                  1   True  \n",
              "99997                      598013                  1   True  \n",
              "99998                     1208591                  1   True  \n",
              "99999                      486710                  1  False  \n",
              "\n",
              "[100000 rows x 6 columns]"
            ],
            "text/html": [
              "\n",
              "  <div id=\"df-8c6657f1-4a63-4b42-a2be-7ef2b831df74\">\n",
              "    <div class=\"colab-df-container\">\n",
              "      <div>\n",
              "<style scoped>\n",
              "    .dataframe tbody tr th:only-of-type {\n",
              "        vertical-align: middle;\n",
              "    }\n",
              "\n",
              "    .dataframe tbody tr th {\n",
              "        vertical-align: top;\n",
              "    }\n",
              "\n",
              "    .dataframe thead th {\n",
              "        text-align: right;\n",
              "    }\n",
              "</style>\n",
              "<table border=\"1\" class=\"dataframe\">\n",
              "  <thead>\n",
              "    <tr style=\"text-align: right;\">\n",
              "      <th></th>\n",
              "      <th>Product</th>\n",
              "      <th>First_Transaction</th>\n",
              "      <th>Last_Transaction</th>\n",
              "      <th>Average_Transaction_Amount</th>\n",
              "      <th>Count_Transaction</th>\n",
              "      <th>Churn</th>\n",
              "    </tr>\n",
              "  </thead>\n",
              "  <tbody>\n",
              "    <tr>\n",
              "      <th>0</th>\n",
              "      <td>Jaket</td>\n",
              "      <td>2016-06-19 02:44:34.396000000</td>\n",
              "      <td>2018-10-05 05:48:02.608000000</td>\n",
              "      <td>1467681</td>\n",
              "      <td>22</td>\n",
              "      <td>False</td>\n",
              "    </tr>\n",
              "    <tr>\n",
              "      <th>1</th>\n",
              "      <td>Sepatu</td>\n",
              "      <td>2014-07-23 01:02:11.493999872</td>\n",
              "      <td>2018-12-25 11:02:41.269999872</td>\n",
              "      <td>1269337</td>\n",
              "      <td>41</td>\n",
              "      <td>False</td>\n",
              "    </tr>\n",
              "    <tr>\n",
              "      <th>2</th>\n",
              "      <td>Tas</td>\n",
              "      <td>2017-04-28 03:12:27.000000000</td>\n",
              "      <td>2019-01-24 09:40:02.000000000</td>\n",
              "      <td>310915</td>\n",
              "      <td>30</td>\n",
              "      <td>False</td>\n",
              "    </tr>\n",
              "    <tr>\n",
              "      <th>3</th>\n",
              "      <td>Jaket</td>\n",
              "      <td>2017-04-28 06:52:52.546999808</td>\n",
              "      <td>2019-01-16 13:00:03.911000064</td>\n",
              "      <td>722632</td>\n",
              "      <td>27</td>\n",
              "      <td>False</td>\n",
              "    </tr>\n",
              "    <tr>\n",
              "      <th>4</th>\n",
              "      <td>Sepatu</td>\n",
              "      <td>2015-04-16 10:01:38.530999808</td>\n",
              "      <td>2018-11-22 12:53:41.529999872</td>\n",
              "      <td>1775036</td>\n",
              "      <td>25</td>\n",
              "      <td>False</td>\n",
              "    </tr>\n",
              "    <tr>\n",
              "      <th>...</th>\n",
              "      <td>...</td>\n",
              "      <td>...</td>\n",
              "      <td>...</td>\n",
              "      <td>...</td>\n",
              "      <td>...</td>\n",
              "      <td>...</td>\n",
              "    </tr>\n",
              "    <tr>\n",
              "      <th>99995</th>\n",
              "      <td>Jaket</td>\n",
              "      <td>2016-06-01 11:35:39.092000000</td>\n",
              "      <td>2016-06-01 11:35:39.092000000</td>\n",
              "      <td>298662</td>\n",
              "      <td>1</td>\n",
              "      <td>True</td>\n",
              "    </tr>\n",
              "    <tr>\n",
              "      <th>99996</th>\n",
              "      <td>Sepatu</td>\n",
              "      <td>2017-02-09 05:46:10.763000064</td>\n",
              "      <td>2017-02-09 05:46:10.763000064</td>\n",
              "      <td>349556</td>\n",
              "      <td>1</td>\n",
              "      <td>True</td>\n",
              "    </tr>\n",
              "    <tr>\n",
              "      <th>99997</th>\n",
              "      <td>Jaket</td>\n",
              "      <td>2015-08-30 08:54:20.706000128</td>\n",
              "      <td>2015-08-30 08:54:20.706000128</td>\n",
              "      <td>598013</td>\n",
              "      <td>1</td>\n",
              "      <td>True</td>\n",
              "    </tr>\n",
              "    <tr>\n",
              "      <th>99998</th>\n",
              "      <td>Sepatu</td>\n",
              "      <td>2014-11-14 02:42:28.026000128</td>\n",
              "      <td>2014-11-14 02:42:28.026000128</td>\n",
              "      <td>1208591</td>\n",
              "      <td>1</td>\n",
              "      <td>True</td>\n",
              "    </tr>\n",
              "    <tr>\n",
              "      <th>99999</th>\n",
              "      <td>Jaket</td>\n",
              "      <td>2018-10-24 09:36:04.124999936</td>\n",
              "      <td>2018-10-24 09:36:04.124999936</td>\n",
              "      <td>486710</td>\n",
              "      <td>1</td>\n",
              "      <td>False</td>\n",
              "    </tr>\n",
              "  </tbody>\n",
              "</table>\n",
              "<p>100000 rows × 6 columns</p>\n",
              "</div>\n",
              "      <button class=\"colab-df-convert\" onclick=\"convertToInteractive('df-8c6657f1-4a63-4b42-a2be-7ef2b831df74')\"\n",
              "              title=\"Convert this dataframe to an interactive table.\"\n",
              "              style=\"display:none;\">\n",
              "        \n",
              "  <svg xmlns=\"http://www.w3.org/2000/svg\" height=\"24px\"viewBox=\"0 0 24 24\"\n",
              "       width=\"24px\">\n",
              "    <path d=\"M0 0h24v24H0V0z\" fill=\"none\"/>\n",
              "    <path d=\"M18.56 5.44l.94 2.06.94-2.06 2.06-.94-2.06-.94-.94-2.06-.94 2.06-2.06.94zm-11 1L8.5 8.5l.94-2.06 2.06-.94-2.06-.94L8.5 2.5l-.94 2.06-2.06.94zm10 10l.94 2.06.94-2.06 2.06-.94-2.06-.94-.94-2.06-.94 2.06-2.06.94z\"/><path d=\"M17.41 7.96l-1.37-1.37c-.4-.4-.92-.59-1.43-.59-.52 0-1.04.2-1.43.59L10.3 9.45l-7.72 7.72c-.78.78-.78 2.05 0 2.83L4 21.41c.39.39.9.59 1.41.59.51 0 1.02-.2 1.41-.59l7.78-7.78 2.81-2.81c.8-.78.8-2.07 0-2.86zM5.41 20L4 18.59l7.72-7.72 1.47 1.35L5.41 20z\"/>\n",
              "  </svg>\n",
              "      </button>\n",
              "      \n",
              "  <style>\n",
              "    .colab-df-container {\n",
              "      display:flex;\n",
              "      flex-wrap:wrap;\n",
              "      gap: 12px;\n",
              "    }\n",
              "\n",
              "    .colab-df-convert {\n",
              "      background-color: #E8F0FE;\n",
              "      border: none;\n",
              "      border-radius: 50%;\n",
              "      cursor: pointer;\n",
              "      display: none;\n",
              "      fill: #1967D2;\n",
              "      height: 32px;\n",
              "      padding: 0 0 0 0;\n",
              "      width: 32px;\n",
              "    }\n",
              "\n",
              "    .colab-df-convert:hover {\n",
              "      background-color: #E2EBFA;\n",
              "      box-shadow: 0px 1px 2px rgba(60, 64, 67, 0.3), 0px 1px 3px 1px rgba(60, 64, 67, 0.15);\n",
              "      fill: #174EA6;\n",
              "    }\n",
              "\n",
              "    [theme=dark] .colab-df-convert {\n",
              "      background-color: #3B4455;\n",
              "      fill: #D2E3FC;\n",
              "    }\n",
              "\n",
              "    [theme=dark] .colab-df-convert:hover {\n",
              "      background-color: #434B5C;\n",
              "      box-shadow: 0px 1px 3px 1px rgba(0, 0, 0, 0.15);\n",
              "      filter: drop-shadow(0px 1px 2px rgba(0, 0, 0, 0.3));\n",
              "      fill: #FFFFFF;\n",
              "    }\n",
              "  </style>\n",
              "\n",
              "      <script>\n",
              "        const buttonEl =\n",
              "          document.querySelector('#df-8c6657f1-4a63-4b42-a2be-7ef2b831df74 button.colab-df-convert');\n",
              "        buttonEl.style.display =\n",
              "          google.colab.kernel.accessAllowed ? 'block' : 'none';\n",
              "\n",
              "        async function convertToInteractive(key) {\n",
              "          const element = document.querySelector('#df-8c6657f1-4a63-4b42-a2be-7ef2b831df74');\n",
              "          const dataTable =\n",
              "            await google.colab.kernel.invokeFunction('convertToInteractive',\n",
              "                                                     [key], {});\n",
              "          if (!dataTable) return;\n",
              "\n",
              "          const docLinkHtml = 'Like what you see? Visit the ' +\n",
              "            '<a target=\"_blank\" href=https://colab.research.google.com/notebooks/data_table.ipynb>data table notebook</a>'\n",
              "            + ' to learn more about interactive tables.';\n",
              "          element.innerHTML = '';\n",
              "          dataTable['output_type'] = 'display_data';\n",
              "          await google.colab.output.renderOutput(dataTable, element);\n",
              "          const docLink = document.createElement('div');\n",
              "          docLink.innerHTML = docLinkHtml;\n",
              "          element.appendChild(docLink);\n",
              "        }\n",
              "      </script>\n",
              "    </div>\n",
              "  </div>\n",
              "  "
            ]
          },
          "metadata": {},
          "execution_count": 16
        }
      ]
    },
    {
      "cell_type": "markdown",
      "source": [
        "- Menambahkan kolom perbedaan tahun pertama dan terakhir transaksi"
      ],
      "metadata": {
        "id": "ZB50_V4QYApO"
      }
    },
    {
      "cell_type": "code",
      "source": [
        "df['Year_Difference'] = df['Last_Transaction'].dt.year - df['First_Transaction'].dt.year\n",
        "df"
      ],
      "metadata": {
        "colab": {
          "base_uri": "https://localhost:8080/",
          "height": 423
        },
        "id": "yuAYZLD_YGoy",
        "outputId": "b8a84f5d-ba0b-4bf4-e2fe-16948c0088fb"
      },
      "execution_count": 17,
      "outputs": [
        {
          "output_type": "execute_result",
          "data": {
            "text/plain": [
              "      Product             First_Transaction              Last_Transaction  \\\n",
              "0       Jaket 2016-06-19 02:44:34.396000000 2018-10-05 05:48:02.608000000   \n",
              "1      Sepatu 2014-07-23 01:02:11.493999872 2018-12-25 11:02:41.269999872   \n",
              "2         Tas 2017-04-28 03:12:27.000000000 2019-01-24 09:40:02.000000000   \n",
              "3       Jaket 2017-04-28 06:52:52.546999808 2019-01-16 13:00:03.911000064   \n",
              "4      Sepatu 2015-04-16 10:01:38.530999808 2018-11-22 12:53:41.529999872   \n",
              "...       ...                           ...                           ...   \n",
              "99995   Jaket 2016-06-01 11:35:39.092000000 2016-06-01 11:35:39.092000000   \n",
              "99996  Sepatu 2017-02-09 05:46:10.763000064 2017-02-09 05:46:10.763000064   \n",
              "99997   Jaket 2015-08-30 08:54:20.706000128 2015-08-30 08:54:20.706000128   \n",
              "99998  Sepatu 2014-11-14 02:42:28.026000128 2014-11-14 02:42:28.026000128   \n",
              "99999   Jaket 2018-10-24 09:36:04.124999936 2018-10-24 09:36:04.124999936   \n",
              "\n",
              "       Average_Transaction_Amount  Count_Transaction  Churn  Year_Difference  \n",
              "0                         1467681                 22  False                2  \n",
              "1                         1269337                 41  False                4  \n",
              "2                          310915                 30  False                2  \n",
              "3                          722632                 27  False                2  \n",
              "4                         1775036                 25  False                3  \n",
              "...                           ...                ...    ...              ...  \n",
              "99995                      298662                  1   True                0  \n",
              "99996                      349556                  1   True                0  \n",
              "99997                      598013                  1   True                0  \n",
              "99998                     1208591                  1   True                0  \n",
              "99999                      486710                  1  False                0  \n",
              "\n",
              "[100000 rows x 7 columns]"
            ],
            "text/html": [
              "\n",
              "  <div id=\"df-ad951386-e5ef-4c23-8401-c593cc25db3b\">\n",
              "    <div class=\"colab-df-container\">\n",
              "      <div>\n",
              "<style scoped>\n",
              "    .dataframe tbody tr th:only-of-type {\n",
              "        vertical-align: middle;\n",
              "    }\n",
              "\n",
              "    .dataframe tbody tr th {\n",
              "        vertical-align: top;\n",
              "    }\n",
              "\n",
              "    .dataframe thead th {\n",
              "        text-align: right;\n",
              "    }\n",
              "</style>\n",
              "<table border=\"1\" class=\"dataframe\">\n",
              "  <thead>\n",
              "    <tr style=\"text-align: right;\">\n",
              "      <th></th>\n",
              "      <th>Product</th>\n",
              "      <th>First_Transaction</th>\n",
              "      <th>Last_Transaction</th>\n",
              "      <th>Average_Transaction_Amount</th>\n",
              "      <th>Count_Transaction</th>\n",
              "      <th>Churn</th>\n",
              "      <th>Year_Difference</th>\n",
              "    </tr>\n",
              "  </thead>\n",
              "  <tbody>\n",
              "    <tr>\n",
              "      <th>0</th>\n",
              "      <td>Jaket</td>\n",
              "      <td>2016-06-19 02:44:34.396000000</td>\n",
              "      <td>2018-10-05 05:48:02.608000000</td>\n",
              "      <td>1467681</td>\n",
              "      <td>22</td>\n",
              "      <td>False</td>\n",
              "      <td>2</td>\n",
              "    </tr>\n",
              "    <tr>\n",
              "      <th>1</th>\n",
              "      <td>Sepatu</td>\n",
              "      <td>2014-07-23 01:02:11.493999872</td>\n",
              "      <td>2018-12-25 11:02:41.269999872</td>\n",
              "      <td>1269337</td>\n",
              "      <td>41</td>\n",
              "      <td>False</td>\n",
              "      <td>4</td>\n",
              "    </tr>\n",
              "    <tr>\n",
              "      <th>2</th>\n",
              "      <td>Tas</td>\n",
              "      <td>2017-04-28 03:12:27.000000000</td>\n",
              "      <td>2019-01-24 09:40:02.000000000</td>\n",
              "      <td>310915</td>\n",
              "      <td>30</td>\n",
              "      <td>False</td>\n",
              "      <td>2</td>\n",
              "    </tr>\n",
              "    <tr>\n",
              "      <th>3</th>\n",
              "      <td>Jaket</td>\n",
              "      <td>2017-04-28 06:52:52.546999808</td>\n",
              "      <td>2019-01-16 13:00:03.911000064</td>\n",
              "      <td>722632</td>\n",
              "      <td>27</td>\n",
              "      <td>False</td>\n",
              "      <td>2</td>\n",
              "    </tr>\n",
              "    <tr>\n",
              "      <th>4</th>\n",
              "      <td>Sepatu</td>\n",
              "      <td>2015-04-16 10:01:38.530999808</td>\n",
              "      <td>2018-11-22 12:53:41.529999872</td>\n",
              "      <td>1775036</td>\n",
              "      <td>25</td>\n",
              "      <td>False</td>\n",
              "      <td>3</td>\n",
              "    </tr>\n",
              "    <tr>\n",
              "      <th>...</th>\n",
              "      <td>...</td>\n",
              "      <td>...</td>\n",
              "      <td>...</td>\n",
              "      <td>...</td>\n",
              "      <td>...</td>\n",
              "      <td>...</td>\n",
              "      <td>...</td>\n",
              "    </tr>\n",
              "    <tr>\n",
              "      <th>99995</th>\n",
              "      <td>Jaket</td>\n",
              "      <td>2016-06-01 11:35:39.092000000</td>\n",
              "      <td>2016-06-01 11:35:39.092000000</td>\n",
              "      <td>298662</td>\n",
              "      <td>1</td>\n",
              "      <td>True</td>\n",
              "      <td>0</td>\n",
              "    </tr>\n",
              "    <tr>\n",
              "      <th>99996</th>\n",
              "      <td>Sepatu</td>\n",
              "      <td>2017-02-09 05:46:10.763000064</td>\n",
              "      <td>2017-02-09 05:46:10.763000064</td>\n",
              "      <td>349556</td>\n",
              "      <td>1</td>\n",
              "      <td>True</td>\n",
              "      <td>0</td>\n",
              "    </tr>\n",
              "    <tr>\n",
              "      <th>99997</th>\n",
              "      <td>Jaket</td>\n",
              "      <td>2015-08-30 08:54:20.706000128</td>\n",
              "      <td>2015-08-30 08:54:20.706000128</td>\n",
              "      <td>598013</td>\n",
              "      <td>1</td>\n",
              "      <td>True</td>\n",
              "      <td>0</td>\n",
              "    </tr>\n",
              "    <tr>\n",
              "      <th>99998</th>\n",
              "      <td>Sepatu</td>\n",
              "      <td>2014-11-14 02:42:28.026000128</td>\n",
              "      <td>2014-11-14 02:42:28.026000128</td>\n",
              "      <td>1208591</td>\n",
              "      <td>1</td>\n",
              "      <td>True</td>\n",
              "      <td>0</td>\n",
              "    </tr>\n",
              "    <tr>\n",
              "      <th>99999</th>\n",
              "      <td>Jaket</td>\n",
              "      <td>2018-10-24 09:36:04.124999936</td>\n",
              "      <td>2018-10-24 09:36:04.124999936</td>\n",
              "      <td>486710</td>\n",
              "      <td>1</td>\n",
              "      <td>False</td>\n",
              "      <td>0</td>\n",
              "    </tr>\n",
              "  </tbody>\n",
              "</table>\n",
              "<p>100000 rows × 7 columns</p>\n",
              "</div>\n",
              "      <button class=\"colab-df-convert\" onclick=\"convertToInteractive('df-ad951386-e5ef-4c23-8401-c593cc25db3b')\"\n",
              "              title=\"Convert this dataframe to an interactive table.\"\n",
              "              style=\"display:none;\">\n",
              "        \n",
              "  <svg xmlns=\"http://www.w3.org/2000/svg\" height=\"24px\"viewBox=\"0 0 24 24\"\n",
              "       width=\"24px\">\n",
              "    <path d=\"M0 0h24v24H0V0z\" fill=\"none\"/>\n",
              "    <path d=\"M18.56 5.44l.94 2.06.94-2.06 2.06-.94-2.06-.94-.94-2.06-.94 2.06-2.06.94zm-11 1L8.5 8.5l.94-2.06 2.06-.94-2.06-.94L8.5 2.5l-.94 2.06-2.06.94zm10 10l.94 2.06.94-2.06 2.06-.94-2.06-.94-.94-2.06-.94 2.06-2.06.94z\"/><path d=\"M17.41 7.96l-1.37-1.37c-.4-.4-.92-.59-1.43-.59-.52 0-1.04.2-1.43.59L10.3 9.45l-7.72 7.72c-.78.78-.78 2.05 0 2.83L4 21.41c.39.39.9.59 1.41.59.51 0 1.02-.2 1.41-.59l7.78-7.78 2.81-2.81c.8-.78.8-2.07 0-2.86zM5.41 20L4 18.59l7.72-7.72 1.47 1.35L5.41 20z\"/>\n",
              "  </svg>\n",
              "      </button>\n",
              "      \n",
              "  <style>\n",
              "    .colab-df-container {\n",
              "      display:flex;\n",
              "      flex-wrap:wrap;\n",
              "      gap: 12px;\n",
              "    }\n",
              "\n",
              "    .colab-df-convert {\n",
              "      background-color: #E8F0FE;\n",
              "      border: none;\n",
              "      border-radius: 50%;\n",
              "      cursor: pointer;\n",
              "      display: none;\n",
              "      fill: #1967D2;\n",
              "      height: 32px;\n",
              "      padding: 0 0 0 0;\n",
              "      width: 32px;\n",
              "    }\n",
              "\n",
              "    .colab-df-convert:hover {\n",
              "      background-color: #E2EBFA;\n",
              "      box-shadow: 0px 1px 2px rgba(60, 64, 67, 0.3), 0px 1px 3px 1px rgba(60, 64, 67, 0.15);\n",
              "      fill: #174EA6;\n",
              "    }\n",
              "\n",
              "    [theme=dark] .colab-df-convert {\n",
              "      background-color: #3B4455;\n",
              "      fill: #D2E3FC;\n",
              "    }\n",
              "\n",
              "    [theme=dark] .colab-df-convert:hover {\n",
              "      background-color: #434B5C;\n",
              "      box-shadow: 0px 1px 3px 1px rgba(0, 0, 0, 0.15);\n",
              "      filter: drop-shadow(0px 1px 2px rgba(0, 0, 0, 0.3));\n",
              "      fill: #FFFFFF;\n",
              "    }\n",
              "  </style>\n",
              "\n",
              "      <script>\n",
              "        const buttonEl =\n",
              "          document.querySelector('#df-ad951386-e5ef-4c23-8401-c593cc25db3b button.colab-df-convert');\n",
              "        buttonEl.style.display =\n",
              "          google.colab.kernel.accessAllowed ? 'block' : 'none';\n",
              "\n",
              "        async function convertToInteractive(key) {\n",
              "          const element = document.querySelector('#df-ad951386-e5ef-4c23-8401-c593cc25db3b');\n",
              "          const dataTable =\n",
              "            await google.colab.kernel.invokeFunction('convertToInteractive',\n",
              "                                                     [key], {});\n",
              "          if (!dataTable) return;\n",
              "\n",
              "          const docLinkHtml = 'Like what you see? Visit the ' +\n",
              "            '<a target=\"_blank\" href=https://colab.research.google.com/notebooks/data_table.ipynb>data table notebook</a>'\n",
              "            + ' to learn more about interactive tables.';\n",
              "          element.innerHTML = '';\n",
              "          dataTable['output_type'] = 'display_data';\n",
              "          await google.colab.output.renderOutput(dataTable, element);\n",
              "          const docLink = document.createElement('div');\n",
              "          docLink.innerHTML = docLinkHtml;\n",
              "          element.appendChild(docLink);\n",
              "        }\n",
              "      </script>\n",
              "    </div>\n",
              "  </div>\n",
              "  "
            ]
          },
          "metadata": {},
          "execution_count": 17
        }
      ]
    },
    {
      "cell_type": "markdown",
      "source": [
        "#### **Penentuan Kolom Feature dan Target**"
      ],
      "metadata": {
        "id": "RQs23AT1b85V"
      }
    },
    {
      "cell_type": "code",
      "source": [
        "# kolom feature\n",
        "feature_columns = ['Product',\n",
        "                   'Average_Transaction_Amount',\n",
        "                   'Count_Transaction',\n",
        "                   'Year_Difference']\n",
        "X = df[feature_columns] \n",
        "\n",
        "# kolom target\n",
        "y = df['Churn'] \n",
        "\n",
        "print(X)\n",
        "print(y)"
      ],
      "metadata": {
        "colab": {
          "base_uri": "https://localhost:8080/"
        },
        "id": "Yl5mosPDd9CU",
        "outputId": "a296bc90-416d-448a-91de-ab76023940f9"
      },
      "execution_count": 18,
      "outputs": [
        {
          "output_type": "stream",
          "name": "stdout",
          "text": [
            "      Product  Average_Transaction_Amount  Count_Transaction  Year_Difference\n",
            "0       Jaket                     1467681                 22                2\n",
            "1      Sepatu                     1269337                 41                4\n",
            "2         Tas                      310915                 30                2\n",
            "3       Jaket                      722632                 27                2\n",
            "4      Sepatu                     1775036                 25                3\n",
            "...       ...                         ...                ...              ...\n",
            "99995   Jaket                      298662                  1                0\n",
            "99996  Sepatu                      349556                  1                0\n",
            "99997   Jaket                      598013                  1                0\n",
            "99998  Sepatu                     1208591                  1                0\n",
            "99999   Jaket                      486710                  1                0\n",
            "\n",
            "[100000 rows x 4 columns]\n",
            "0        False\n",
            "1        False\n",
            "2        False\n",
            "3        False\n",
            "4        False\n",
            "         ...  \n",
            "99995     True\n",
            "99996     True\n",
            "99997     True\n",
            "99998     True\n",
            "99999    False\n",
            "Name: Churn, Length: 100000, dtype: object\n"
          ]
        }
      ]
    },
    {
      "cell_type": "markdown",
      "source": [
        "#### **Encoding Data**"
      ],
      "metadata": {
        "id": "YFGV9Tt8573P"
      }
    },
    {
      "cell_type": "code",
      "source": [
        "le = LabelEncoder()\n",
        "\n",
        "X['Product'] = le.fit_transform(X['Product'])\n",
        "y = le.fit_transform(y)"
      ],
      "metadata": {
        "id": "2RDm7b--4F_y"
      },
      "execution_count": 19,
      "outputs": []
    },
    {
      "cell_type": "markdown",
      "source": [
        "#### **Normalisasi Data**"
      ],
      "metadata": {
        "id": "UcPs19lyDqQZ"
      }
    },
    {
      "cell_type": "code",
      "source": [
        "X[\"Product\"] = X[\"Product\"] / X[\"Product\"].max()\n",
        "X[\"Average_Transaction_Amount\"] = X[\"Average_Transaction_Amount\"] / X[\"Average_Transaction_Amount\"].max()\n",
        "X[\"Count_Transaction\"] = X[\"Count_Transaction\"] / X[\"Count_Transaction\"].max()\n",
        "X[\"Year_Difference\"] = X[\"Year_Difference\"] / X[\"Year_Difference\"].max()\n",
        "\n",
        "print(X)"
      ],
      "metadata": {
        "colab": {
          "base_uri": "https://localhost:8080/"
        },
        "id": "mByo1KNMJmKx",
        "outputId": "4b3cd7c6-f62d-455a-95be-d23b4f49e9a8"
      },
      "execution_count": 20,
      "outputs": [
        {
          "output_type": "stream",
          "name": "stdout",
          "text": [
            "        Product  Average_Transaction_Amount  Count_Transaction  \\\n",
            "0      0.333333                    0.030069           0.005711   \n",
            "1      0.666667                    0.026006           0.010644   \n",
            "2      1.000000                    0.006370           0.007788   \n",
            "3      0.333333                    0.014805           0.007009   \n",
            "4      0.666667                    0.036366           0.006490   \n",
            "...         ...                         ...                ...   \n",
            "99995  0.333333                    0.006119           0.000260   \n",
            "99996  0.666667                    0.007162           0.000260   \n",
            "99997  0.333333                    0.012252           0.000260   \n",
            "99998  0.666667                    0.024761           0.000260   \n",
            "99999  0.333333                    0.009971           0.000260   \n",
            "\n",
            "       Year_Difference  \n",
            "0             0.333333  \n",
            "1             0.666667  \n",
            "2             0.333333  \n",
            "3             0.333333  \n",
            "4             0.500000  \n",
            "...                ...  \n",
            "99995         0.000000  \n",
            "99996         0.000000  \n",
            "99997         0.000000  \n",
            "99998         0.000000  \n",
            "99999         0.000000  \n",
            "\n",
            "[100000 rows x 4 columns]\n"
          ]
        }
      ]
    },
    {
      "cell_type": "markdown",
      "source": [
        "#### **Nilai Korelasi Antara Kolom Setelah Preprocessing**"
      ],
      "metadata": {
        "id": "uAKZ3WiCVEYj"
      }
    },
    {
      "cell_type": "code",
      "source": [
        "df_after_preprocessing = X.copy()\n",
        "df_after_preprocessing[\"Churn\"] = y.copy()\n",
        "\n",
        "# set figure size\n",
        "plt.figure(figsize=(8,6))\n",
        "\n",
        "# menampilkan nilai korelasi antara kolom menggunakan fungsi heatmap\n",
        "sns.heatmap(df_after_preprocessing.corr(), cmap=\"PuOr\", annot=True, vmin=-1, vmax=1)\n",
        "\n",
        "# set title heatmap\n",
        "plt.title(\"Nilai Korelasi Antara Kolom Setelah Preprocessing\", pad=30)"
      ],
      "metadata": {
        "colab": {
          "base_uri": "https://localhost:8080/",
          "height": 653
        },
        "id": "khyg50NZT4Xk",
        "outputId": "7c6f7361-363b-483d-f2e1-4f20aeb45c4d"
      },
      "execution_count": 21,
      "outputs": [
        {
          "output_type": "execute_result",
          "data": {
            "text/plain": [
              "Text(0.5, 1.0, 'Nilai Korelasi Antara Kolom Setelah Preprocessing')"
            ]
          },
          "metadata": {},
          "execution_count": 21
        },
        {
          "output_type": "display_data",
          "data": {
            "text/plain": [
              "<Figure size 576x432 with 2 Axes>"
            ],
            "image/png": "[encoded data removed]"
          },
          "metadata": {}
        }
      ]
    },
    {
      "cell_type": "markdown",
      "source": [
        "#### **Pembagian Data Menjadi Data Training dan Data Testing**"
      ],
      "metadata": {
        "id": "BPYCnRfbcItp"
      }
    },
    {
      "cell_type": "markdown",
      "source": [
        "- Pembagian data menggunakan fungsi `train_test_split` dengan proporsi data training sebesar 70% dan data testing sebesar 30% yang diacak sebanyak 42 kali"
      ],
      "metadata": {
        "id": "kyWgUAeTeo23"
      }
    },
    {
      "cell_type": "code",
      "source": [
        "X_train, X_test, y_train, y_test = train_test_split(X, y, test_size=0.3, random_state=42)\n",
        "print(\n",
        "  \"Jumlah baris dan kolom variabel X_train: \",\n",
        "  X_train.shape,\n",
        "  \"\\nJumlah baris dan kolom variabel X_test : \",\n",
        "  X_test.shape,\n",
        "  \"\\nJumlah baris dan kolom variabel y_train: \",\n",
        "  y_train.shape,\n",
        "  \"\\nJumlah baris dan kolom variabel y_test : \",\n",
        "  y_test.shape\n",
        ")"
      ],
      "metadata": {
        "colab": {
          "base_uri": "https://localhost:8080/"
        },
        "id": "lqNQMWj2eZ3Y",
        "outputId": "637c3411-665d-4300-ab15-b784a24a14e0"
      },
      "execution_count": 22,
      "outputs": [
        {
          "output_type": "stream",
          "name": "stdout",
          "text": [
            "Jumlah baris dan kolom variabel X_train:  (70000, 4) \n",
            "Jumlah baris dan kolom variabel X_test :  (30000, 4) \n",
            "Jumlah baris dan kolom variabel y_train:  (70000,) \n",
            "Jumlah baris dan kolom variabel y_test :  (30000,)\n"
          ]
        }
      ]
    },
    {
      "cell_type": "markdown",
      "source": [
        "# **5. Eksplorasi Model Machine Learning**"
      ],
      "metadata": {
        "id": "BjY1IYjbc9z8"
      }
    },
    {
      "cell_type": "markdown",
      "source": [
        "#### **Training Model Machine Learning**"
      ],
      "metadata": {
        "id": "OgW5I-iRc_E4"
      }
    },
    {
      "cell_type": "markdown",
      "source": [
        "##### Model Decision Tree Classifier"
      ],
      "metadata": {
        "id": "5M7jngS7dhcW"
      }
    },
    {
      "cell_type": "code",
      "source": [
        "dtc_model = DecisionTreeClassifier()\n",
        "dtc_model = dtc_model.fit(X_train, y_train)\n",
        "dtc_model"
      ],
      "metadata": {
        "colab": {
          "base_uri": "https://localhost:8080/"
        },
        "id": "vupQErIJ238b",
        "outputId": "1e973911-372d-473b-b089-ab0a84e76302"
      },
      "execution_count": 23,
      "outputs": [
        {
          "output_type": "execute_result",
          "data": {
            "text/plain": [
              "DecisionTreeClassifier()"
            ]
          },
          "metadata": {},
          "execution_count": 23
        }
      ]
    },
    {
      "cell_type": "markdown",
      "source": [
        "##### Model Naive Bayes"
      ],
      "metadata": {
        "id": "80QURXlvdkkF"
      }
    },
    {
      "cell_type": "code",
      "source": [
        "nb_model = GaussianNB()\n",
        "nb_model = nb_model.fit(X_train, y_train)\n",
        "nb_model"
      ],
      "metadata": {
        "colab": {
          "base_uri": "https://localhost:8080/"
        },
        "id": "jgfjWCEr3Za9",
        "outputId": "0c51976a-e6ff-4b09-b43e-382d1851b91c"
      },
      "execution_count": 24,
      "outputs": [
        {
          "output_type": "execute_result",
          "data": {
            "text/plain": [
              "GaussianNB()"
            ]
          },
          "metadata": {},
          "execution_count": 24
        }
      ]
    },
    {
      "cell_type": "markdown",
      "source": [
        "#### **Prediksi Model Machine Learning**"
      ],
      "metadata": {
        "id": "FX-qwPSmdQbq"
      }
    },
    {
      "cell_type": "markdown",
      "source": [
        "##### Model Decision Tree Classifier"
      ],
      "metadata": {
        "id": "_y7aAEco47dH"
      }
    },
    {
      "cell_type": "code",
      "source": [
        "y_pred_dtc_model = dtc_model.predict(X_test)"
      ],
      "metadata": {
        "id": "uBsUHSJ25DYh"
      },
      "execution_count": 25,
      "outputs": []
    },
    {
      "cell_type": "markdown",
      "source": [
        "##### Model Naive Bayes"
      ],
      "metadata": {
        "id": "EqqoDt2V4-To"
      }
    },
    {
      "cell_type": "code",
      "source": [
        "y_pred_nb_model = nb_model.predict(X_test)"
      ],
      "metadata": {
        "id": "c-OIaiOj5IKC"
      },
      "execution_count": 26,
      "outputs": []
    },
    {
      "cell_type": "markdown",
      "source": [
        "#### **Evaluasi Model Machine Learning**"
      ],
      "metadata": {
        "id": "cxNiLawXdXXv"
      }
    },
    {
      "cell_type": "markdown",
      "source": [
        "##### Model Decision Tree Classifier"
      ],
      "metadata": {
        "id": "E_MkYEqi5A2v"
      }
    },
    {
      "cell_type": "code",
      "source": [
        "sns.set_theme(style=\"white\")\n",
        "\n",
        "cm = confusion_matrix(y_test,y_pred_dtc_model)\n",
        "disp = ConfusionMatrixDisplay(confusion_matrix=cm, display_labels=[\"False\", \"True\"])\n",
        "disp.plot(cmap='YlGnBu')\n",
        "\n",
        "plt.show()"
      ],
      "metadata": {
        "colab": {
          "base_uri": "https://localhost:8080/",
          "height": 301
        },
        "id": "6tm7MCxD5ST7",
        "outputId": "7f357f6f-54f3-4f7a-d2ff-c670048a7e63"
      },
      "execution_count": 27,
      "outputs": [
        {
          "output_type": "display_data",
          "data": {
            "text/plain": [
              "<Figure size 432x288 with 2 Axes>"
            ],
            "image/png": "[encoded data removed]"
          },
          "metadata": {}
        }
      ]
    },
    {
      "cell_type": "code",
      "source": [
        "print('Accuracy :', accuracy_score(y_test, y_pred_dtc_model))\n",
        "print('Precision:', precision_score(y_test, y_pred_dtc_model))\n",
        "print('Recall   :', recall_score(y_test, y_pred_dtc_model))\n",
        "print(classification_report(y_test, y_pred_dtc_model, target_names=[\"False\",\"True\"]))"
      ],
      "metadata": {
        "colab": {
          "base_uri": "https://localhost:8080/"
        },
        "id": "VzQi9_i_6gtx",
        "outputId": "912cc0b8-fc3f-4346-da35-30bfa1e9211c"
      },
      "execution_count": 28,
      "outputs": [
        {
          "output_type": "stream",
          "name": "stdout",
          "text": [
            "Accuracy : 0.6536333333333333\n",
            "Precision: 0.7391107534453274\n",
            "Recall   : 0.7384793205688728\n",
            "              precision    recall  f1-score   support\n",
            "\n",
            "       False       0.49      0.49      0.49     10101\n",
            "        True       0.74      0.74      0.74     19899\n",
            "\n",
            "    accuracy                           0.65     30000\n",
            "   macro avg       0.61      0.61      0.61     30000\n",
            "weighted avg       0.65      0.65      0.65     30000\n",
            "\n"
          ]
        }
      ]
    },
    {
      "cell_type": "markdown",
      "source": [
        "###### Summary Model Decision Tree Classifier\n",
        "- Tingkat akurasi: 65%.\n",
        "- Tingkat presisi: 73%\n",
        "- Tingkat recall : 73%"
      ],
      "metadata": {
        "id": "h2Ec_6HpMWpz"
      }
    },
    {
      "cell_type": "markdown",
      "source": [
        "##### Model Naive Bayes"
      ],
      "metadata": {
        "id": "harC6jTE4-2v"
      }
    },
    {
      "cell_type": "code",
      "source": [
        "sns.set_theme(style=\"white\")\n",
        "\n",
        "cm = confusion_matrix(y_test,y_pred_nb_model)\n",
        "disp = ConfusionMatrixDisplay(confusion_matrix=cm, display_labels=[\"False\", \"True\"])\n",
        "disp.plot(cmap='YlOrRd')\n",
        "\n",
        "plt.show()"
      ],
      "metadata": {
        "colab": {
          "base_uri": "https://localhost:8080/",
          "height": 301
        },
        "id": "NZ-iqcaL5s2L",
        "outputId": "5e66ab26-e2af-41a5-ff40-4515b6e64760"
      },
      "execution_count": 29,
      "outputs": [
        {
          "output_type": "display_data",
          "data": {
            "text/plain": [
              "<Figure size 432x288 with 2 Axes>"
            ],
            "image/png": "[encoded data removed]"
          },
          "metadata": {}
        }
      ]
    },
    {
      "cell_type": "code",
      "source": [
        "print('Accuracy :', accuracy_score(y_test, y_pred_nb_model))\n",
        "print('Precision:', precision_score(y_test, y_pred_nb_model))\n",
        "print('Recall   :', recall_score(y_test, y_pred_nb_model))\n",
        "print(classification_report(y_test, y_pred_nb_model, target_names=[\"False\",\"True\"]))"
      ],
      "metadata": {
        "colab": {
          "base_uri": "https://localhost:8080/"
        },
        "id": "MXt9JqRb6t-M",
        "outputId": "bc2b2428-3d94-44c7-f08b-d3c342b64f66"
      },
      "execution_count": 30,
      "outputs": [
        {
          "output_type": "stream",
          "name": "stdout",
          "text": [
            "Accuracy : 0.7547666666666667\n",
            "Precision: 0.7550638574798666\n",
            "Recall   : 0.932911201567918\n",
            "              precision    recall  f1-score   support\n",
            "\n",
            "       False       0.75      0.40      0.53     10101\n",
            "        True       0.76      0.93      0.83     19899\n",
            "\n",
            "    accuracy                           0.75     30000\n",
            "   macro avg       0.75      0.67      0.68     30000\n",
            "weighted avg       0.75      0.75      0.73     30000\n",
            "\n"
          ]
        }
      ]
    },
    {
      "cell_type": "markdown",
      "source": [
        "###### Summary Model Naive Bayes\n",
        "- Tingkat akurasi: 75%.\n",
        "- Tingkat presisi: 75%\n",
        "- Tingkat recall : 93%"
      ],
      "metadata": {
        "id": "SB8z2agfPW-M"
      }
    },
    {
      "cell_type": "markdown",
      "source": [
        "# **Kesimpulan**\n",
        "- Sepatu merupakan produk dengan penjualan terbanyak dengan persentase sebesar 49.15% dari keseluruhan penjualan dengan jumlah sebanyak 49.154.\n",
        "- Baju merupakan produk dengan penjualan terendah dengan persentase sebesar 3.41% dari keseluruhan penjualan dengan jumlah sebanyak 3.412.\n",
        "- Penurunan jumlah First_Transaction terjadi mulai tahun 2018.\n",
        "- Kolom Average_Transaction_Amount dan Count_Transaction sedikit berkorelasi positif dengan nilai korelasi yaitu 0.0062\n",
        "- Berdasarkan hasil evaluasi pemodelan klasifikasi dengan Decision Tree dan Naive bayes dapat diketahui bahwa pemodelan terbaik adalah pemodelan dengan Naive Bayes. Hal tersebut dapat diketahui berdasarkan nilai akurasi dari model naive bayes yang lebih tinggi, yaitu 75%."
      ],
      "metadata": {
        "id": "AVSpdjdEPfOI"
      }
    }
  ]
}